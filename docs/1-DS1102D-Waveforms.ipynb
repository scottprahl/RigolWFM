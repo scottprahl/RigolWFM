{
 "cells": [
  {
   "cell_type": "markdown",
   "metadata": {},
   "source": [
    "# DS1000D Rigol Waveform Examples\n",
    "\n",
    "**Scott Prahl**\n",
    "\n",
    "**Aug 2023**\n",
    "\n",
    "This notebook illustrates shows how to extract signals from a `.wfm` file created by a the Rigol DS1102D scope.  \n",
    "\n",
    "*If RigolWFM is not installed, uncomment the following cell (i.e., delete the #) and run (shift-enter)*"
   ]
  },
  {
   "cell_type": "code",
   "execution_count": 1,
   "metadata": {},
   "outputs": [],
   "source": [
    "#!pip install --user RigolWFM"
   ]
  },
  {
   "cell_type": "code",
   "execution_count": 1,
   "metadata": {
    "scrolled": true
   },
   "outputs": [],
   "source": [
    "import numpy as np\n",
    "import matplotlib.pyplot as plt\n",
    "\n",
    "try:\n",
    "    import RigolWFM.wfm as rigol\n",
    "except ModuleNotFoundError:\n",
    "    print('RigolWFM not installed. To install, uncomment and run the cell above.')\n",
    "    print('Once installation is successful, rerun this cell again.')\n",
    "\n",
    "repo = \"https://github.com/scottprahl/RigolWFM/raw/main/wfm/\""
   ]
  },
  {
   "cell_type": "markdown",
   "metadata": {},
   "source": [
    "A list of Rigol scopes in the DS1000D family is:"
   ]
  },
  {
   "cell_type": "code",
   "execution_count": 2,
   "metadata": {},
   "outputs": [
    {
     "name": "stdout",
     "output_type": "stream",
     "text": [
      "['D', '1000D', 'DS1000D', 'DS1102D', 'DS1052D']\n"
     ]
    }
   ],
   "source": [
    "print(rigol.DS1000D_scopes[:])"
   ]
  },
  {
   "cell_type": "markdown",
   "metadata": {},
   "source": [
    "## DS1102D\n",
    "\n",
    "We will start with a `.wfm` file from a Rigol DS1102D scope. \n"
   ]
  },
  {
   "cell_type": "markdown",
   "metadata": {},
   "source": [
    "### Now for the `.wfm` data\n",
    "\n",
    "First a textual description."
   ]
  },
  {
   "cell_type": "code",
   "execution_count": 3,
   "metadata": {},
   "outputs": [
    {
     "name": "stdout",
     "output_type": "stream",
     "text": [
      "downloading 'https://github.com/scottprahl/RigolWFM/raw/main/wfm/DS1102D-A.wfm?raw=true'\n",
      "    General:\n",
      "        File Model   = wfm1000d\n",
      "        User Model   = 1000D\n",
      "        Parser Model = wfm1000d\n",
      "        Firmware     = unknown\n",
      "        Filename     = DS1102D-A.wfm\n",
      "        Channels     = [1, 2]\n",
      "\n",
      "     Channel 1:\n",
      "         Coupling =  unknown\n",
      "            Scale =     1.00  V/div\n",
      "           Offset =    -3.00  V\n",
      "            Probe =       1X\n",
      "         Inverted =    False\n",
      "\n",
      "        Time Base =  500.000 µs/div\n",
      "           Offset =  432.000 µs\n",
      "            Delta =   10.000 µs/point\n",
      "           Points =     1024\n",
      "\n",
      "         Count    = [        1,        2,        3  ...      1023,     1024]\n",
      "           Raw    = [        0,       80,      195  ...        80,       80]\n",
      "           Times  = [-4.688 ms,-4.678 ms,-4.668 ms  ...  5.542 ms, 5.552 ms]\n",
      "           Volts  = [  8.08  V,  4.88  V,280.00 mV  ...   4.88  V,  4.88  V]\n",
      "\n",
      "     Channel 2:\n",
      "         Coupling =  unknown\n",
      "            Scale =     2.00  V/div\n",
      "           Offset =    -4.64  V\n",
      "            Probe =       1X\n",
      "         Inverted =    False\n",
      "\n",
      "        Time Base =  500.000 µs/div\n",
      "           Offset =  432.000 µs\n",
      "            Delta =   10.000 µs/point\n",
      "           Points =     1024\n",
      "\n",
      "         Count    = [        1,        2,        3  ...      1023,     1024]\n",
      "           Raw    = [       80,       80,       80  ...       183,      183]\n",
      "           Times  = [-4.688 ms,-4.678 ms,-4.668 ms  ...  5.542 ms, 5.552 ms]\n",
      "           Volts  = [  8.40  V,  8.40  V,  8.40  V  ... 160.00 mV,160.00 mV]\n",
      "\n",
      "\n"
     ]
    }
   ],
   "source": [
    "# raw=true is needed because this is a binary file\n",
    "wfm_url = \"https://github.com/scottprahl/RigolWFM/raw/main/wfm/DS1102D-A.wfm\" + \"?raw=true\"  \n",
    "w = rigol.Wfm.from_url(wfm_url, '1000D')\n",
    "\n",
    "description = w.describe()\n",
    "print(description)"
   ]
  },
  {
   "cell_type": "code",
   "execution_count": 13,
   "metadata": {},
   "outputs": [
    {
     "data": {
      "image/png": "[encoded data removed]",
      "text/plain": [
       "<Figure size 432x288 with 2 Axes>"
      ]
     },
     "metadata": {
      "needs_background": "light"
     },
     "output_type": "display_data"
    }
   ],
   "source": [
    "ch = w.channels[0]\n",
    "plt.subplot(211)\n",
    "plt.plot(ch.times*1000, ch.volts, color='green')\n",
    "plt.title(\"DS1102D-A from .wfm file\")\n",
    "plt.ylabel(\"Volts (V)\")\n",
    "#plt.xlim(-0.6,0.6)\n",
    "\n",
    "plt.xticks([])\n",
    "\n",
    "ch = w.channels[1]\n",
    "plt.subplot(212)\n",
    "plt.plot(ch.times*1000, ch.volts, color='red')\n",
    "plt.xlabel(\"Time (ms)\")\n",
    "plt.ylabel(\"Volts (V)\")\n",
    "#plt.xlim(-0.6,0.6)\n",
    "\n",
    "plt.show()"
   ]
  },
  {
   "cell_type": "markdown",
   "metadata": {},
   "source": [
    "## DS1102D\n",
    "\n",
    "<img src=\"https://github.com/scottprahl/RigolWFM/raw/main/wfm/DS1102D-A.bmp\" width=\"40%\">\n",
    "\n",
    "\n",
    "### First the `.csv` data\n",
    "\n",
    "Let's look at what the accompanying `.csv` data looks like."
   ]
  },
  {
   "cell_type": "code",
   "execution_count": 5,
   "metadata": {
    "scrolled": true
   },
   "outputs": [
    {
     "data": {
      "image/png": "[encoded data removed]",
      "text/plain": [
       "<Figure size 432x288 with 1 Axes>"
      ]
     },
     "metadata": {
      "needs_background": "light"
     },
     "output_type": "display_data"
    }
   ],
   "source": [
    "filename = \"DS1102D-A.csv\"\n",
    "\n",
    "csv_data = np.genfromtxt(repo+filename, delimiter=',', skip_header=2).T\n",
    "\n",
    "plt.plot(csv_data[0]*1e6,csv_data[1], color='green')\n",
    "plt.title(filename)\n",
    "plt.ylabel(\"Volts (V)\")\n",
    "plt.show()"
   ]
  },
  {
   "cell_type": "code",
   "execution_count": 8,
   "metadata": {},
   "outputs": [
    {
     "data": {
      "image/png": "[encoded data removed]",
      "text/plain": [
       "<Figure size 432x288 with 1 Axes>"
      ]
     },
     "metadata": {
      "needs_background": "light"
     },
     "output_type": "display_data"
    }
   ],
   "source": [
    "ch = w.channels[0]\n",
    "plt.plot(csv_data[0]*1e3,csv_data[1], color='green')\n",
    "\n",
    "plt.title(filename)\n",
    "plt.ylabel(\"Volts (V)\")\n",
    "plt.xlabel(\"Time (ms)\")\n",
    "plt.xlim(-4,6)\n",
    "plt.show()"
   ]
  },
  {
   "cell_type": "markdown",
   "metadata": {},
   "source": [
    "### Now for the `.wfm` data\n",
    "\n",
    "First a textual description."
   ]
  },
  {
   "cell_type": "code",
   "execution_count": 9,
   "metadata": {},
   "outputs": [
    {
     "name": "stdout",
     "output_type": "stream",
     "text": [
      "downloading 'https://github.com/scottprahl/RigolWFM/raw/main/wfm/DS1102D-A.wfm?raw=true'\n",
      "    General:\n",
      "        File Model   = wfm1000d\n",
      "        User Model   = 1000D\n",
      "        Parser Model = wfm1000d\n",
      "        Firmware     = unknown\n",
      "        Filename     = DS1102D-A.wfm\n",
      "        Channels     = [1, 2]\n",
      "\n",
      "     Channel 1:\n",
      "         Coupling =  unknown\n",
      "            Scale =     1.00  V/div\n",
      "           Offset =    -3.00  V\n",
      "            Probe =       1X\n",
      "         Inverted =    False\n",
      "\n",
      "        Time Base =  500.000 µs/div\n",
      "           Offset =  432.000 µs\n",
      "            Delta =   10.000 µs/point\n",
      "           Points =     1024\n",
      "\n",
      "         Count    = [        1,        2,        3  ...      1023,     1024]\n",
      "           Raw    = [        0,       80,      195  ...        80,       80]\n",
      "           Times  = [-4.688 ms,-4.678 ms,-4.668 ms  ...  5.542 ms, 5.552 ms]\n",
      "           Volts  = [  8.08  V,  4.88  V,280.00 mV  ...   4.88  V,  4.88  V]\n",
      "\n",
      "     Channel 2:\n",
      "         Coupling =  unknown\n",
      "            Scale =     2.00  V/div\n",
      "           Offset =    -4.64  V\n",
      "            Probe =       1X\n",
      "         Inverted =    False\n",
      "\n",
      "        Time Base =  500.000 µs/div\n",
      "           Offset =  432.000 µs\n",
      "            Delta =   10.000 µs/point\n",
      "           Points =     1024\n",
      "\n",
      "         Count    = [        1,        2,        3  ...      1023,     1024]\n",
      "           Raw    = [       80,       80,       80  ...       183,      183]\n",
      "           Times  = [-4.688 ms,-4.678 ms,-4.668 ms  ...  5.542 ms, 5.552 ms]\n",
      "           Volts  = [  8.40  V,  8.40  V,  8.40  V  ... 160.00 mV,160.00 mV]\n",
      "\n",
      "\n"
     ]
    }
   ],
   "source": [
    "# raw=true is needed because this is a binary file\n",
    "wfm_url = \"https://github.com/scottprahl/RigolWFM/raw/main/wfm/DS1102D-A.wfm\" + \"?raw=true\"  \n",
    "w = rigol.Wfm.from_url(wfm_url, '1000D')\n",
    "\n",
    "description = w.describe()\n",
    "print(description)"
   ]
  },
  {
   "cell_type": "code",
   "execution_count": 11,
   "metadata": {},
   "outputs": [
    {
     "data": {
      "image/png": "[encoded data removed]",
      "text/plain": [
       "<Figure size 432x288 with 1 Axes>"
      ]
     },
     "metadata": {
      "needs_background": "light"
     },
     "output_type": "display_data"
    }
   ],
   "source": [
    "ch = w.channels[0]\n",
    "plt.plot(ch.times*1000, ch.volts, color='green')\n",
    "plt.title(\"DS1102D-A from .wfm file\")\n",
    "plt.ylabel(\"Volts (V)\")\n",
    "plt.xlabel(\"Time (ms)\")\n",
    "\n",
    "plt.show()"
   ]
  },
  {
   "cell_type": "code",
   "execution_count": 12,
   "metadata": {},
   "outputs": [
    {
     "data": {
      "image/png": "[encoded data removed]",
      "text/plain": [
       "<Figure size 432x288 with 1 Axes>"
      ]
     },
     "metadata": {
      "needs_background": "light"
     },
     "output_type": "display_data"
    }
   ],
   "source": [
    "ch = w.channels[0]\n",
    "plt.plot(ch.times*1e3, ch.volts, color='green')\n",
    "plt.title(\"DS10102D-A from .wfm file\")\n",
    "plt.ylabel(\"Volts (V)\")\n",
    "plt.xlabel(\"Time (ms)\")\n",
    "plt.xlim(-4,6)\n",
    "plt.show()"
   ]
  },
  {
   "cell_type": "code",
   "execution_count": null,
   "metadata": {},
   "outputs": [],
   "source": []
  }
 ],
 "metadata": {
  "kernel/runtime_info": {
   "name": "python3"
  },
  "kernel/runtimespec": {
   "display_name": "Python 3",
   "language": "python",
   "name": "python3"
  },
  "kernelspec": {
   "display_name": "Python 3 (ipykernel)",
   "language": "python",
   "name": "python3"
  },
  "language_info": {
   "codemirror_mode": {
    "name": "ipython",
    "version": 3
   },
   "file_extension": ".py",
   "mimetype": "text/x-python",
   "name": "python",
   "nbconvert_exporter": "python",
   "pygments_lexer": "ipython3",
   "version": "3.10.12"
  },
  "nteract": {
   "version": "0.15.0"
  }
 },
 "nbformat": 4,
 "nbformat_minor": 4
}
