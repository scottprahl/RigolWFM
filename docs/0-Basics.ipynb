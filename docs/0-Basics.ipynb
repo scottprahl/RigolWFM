{
 "cells": [
  {
   "cell_type": "markdown",
   "metadata": {},
   "source": [
    "# Basic RigolWFM Usage\n",
    "\n",
    "**Scott Prahl**\n",
    "\n",
    "**August 2021**\n",
    "\n",
    "This notebook contains a short overview of the RigolWFM parser for waveform `.wfm` files created by Rigol oscilloscopes."
   ]
  },
  {
   "cell_type": "markdown",
   "metadata": {},
   "source": [
    "## Script to print out description about .wfm file\n",
    "\n",
    "```python\n",
    "    import RigolWFM.wfm as rigol\n",
    "\n",
    "    model = \"DS1102E'\n",
    "    filename = \"localfile.wfm\"\n",
    "    \n",
    "    scope_data = rigol.Wfm.from_file(filename, model)\n",
    "    \n",
    "    description = scope_data.describe()\n",
    "    print(description)\n",
    "```"
   ]
  },
  {
   "cell_type": "markdown",
   "metadata": {},
   "source": [
    "## Script to put the values of the channels in numpy arrays\n",
    "\n",
    "```python\n",
    "    import RigolWFM.wfm as rigol\n",
    "\n",
    "    filename = 'wfm/DS2072A-1.wfm'\n",
    "    scope = 'DS2072A'\n",
    "\n",
    "    scope_data = rigol.Wfm.from_file(filename, scope)\n",
    "\n",
    "    # at this point all the data is in scope_data.channels[0] etc.\n",
    "    for ch in scope_data.channels:\n",
    "        print(\"Channel \", ch.name)\n",
    "        for i in range(5):\n",
    "            print(\"%d %g %g\" % (i, ch.times[i], ch.volts[i]))\n",
    "```"
   ]
  },
  {
   "cell_type": "markdown",
   "metadata": {
    "jp-MarkdownHeadingCollapsed": true,
    "tags": []
   },
   "source": [
    "## Script to create comma-separated values\n",
    "\n",
    "```python\n",
    "    import RigolWFM.wfm as rigol\n",
    "\n",
    "    filename = 'wfm/DS2072A-1.wfm'\n",
    "    scope = 'DS2072A'\n",
    "\n",
    "    scope_data = rigol.Wfm.from_file(filename, scope)\n",
    "\n",
    "    description = scope_data.describe()\n",
    "    print(description)\n",
    "\n",
    "    s = scope_data.csv()\n",
    "\n",
    "    # just show the first few entries\n",
    "    rows = s.split('\\n')\n",
    "    for i in range(5):\n",
    "        print(rows[i])\n",
    "```"
   ]
  },
  {
   "cell_type": "markdown",
   "metadata": {},
   "source": [
    "## Script to plot .wfm file\n",
    "\n",
    "```python\n",
    "    import matplotlib.pyplot as plt\n",
    "    import RigolWFM.wfm as rigol\n",
    "\n",
    "    model = \"DS1102E'\n",
    "    filename = \"localfile.wfm\"\n",
    "    scope_data = rigol.Wfm.from_file(filename, model)\n",
    "\n",
    "    for ch in scope_data.channels:\n",
    "        plt.plot(ch.times, ch.volts, label=ch.name)\n",
    "    plt.legend()\n",
    "    plt.show()\n",
    "```"
   ]
  },
  {
   "cell_type": "code",
   "execution_count": 1,
   "metadata": {},
   "outputs": [],
   "source": [
    "#!pip install --user RigolWFM"
   ]
  },
  {
   "cell_type": "code",
   "execution_count": 2,
   "metadata": {},
   "outputs": [],
   "source": [
    "import numpy as np\n",
    "import matplotlib.pyplot as plt\n",
    "\n",
    "try:\n",
    "    import RigolWFM.wfm as rigol\n",
    "except ModuleNotFoundError:\n",
    "    print('RigolWFM not installed. To install, uncomment and run the cell above.')\n",
    "    print('Once installation is successful, rerun this cell again.')\n",
    "\n",
    "repo = \"https://github.com/scottprahl/RigolWFM/raw/master/wfm/\""
   ]
  },
  {
   "cell_type": "markdown",
   "metadata": {},
   "source": [
    "## Motivation\n",
    "\n",
    "The `.wfm` format offers a few nice advantages\n",
    "\n",
    "* saving onto a USB drive on the scope is fast\n",
    "* uploading the `.wfm` file back to the scope is (sometimes) possible\n",
    "* no need to interface to a computer\n",
    "* the files are small (one byte per point)\n",
    "* all the settings are contained in the file header\n",
    "\n",
    "The disadvantage are that different scopes (and often different firmware version) have different formats.  Worse, documentation from Rigol on these formats is sparse at best.  Finally, the Rigol software to support reading these files is klunky."
   ]
  },
  {
   "cell_type": "markdown",
   "metadata": {},
   "source": [
    "## Possible Scope Models\n",
    "\n",
    "This program currently covers six classes of scopes."
   ]
  },
  {
   "cell_type": "markdown",
   "metadata": {},
   "source": [
    "### DS1000C untested\n",
    "\n",
    "Support for these models is in the program, but parsing is completely untested.\n",
    "\n",
    "Handy Abbreviations: `C`, `1000C`, `DS1000C`\n",
    "\n",
    "Specific Models: `DS1000CD`, `DS1000C`, `DS1000MD`, `DS1000M`, `DS1302CA`, `DS1202CA`, `DS1102CA`, `DS1062CA`"
   ]
  },
  {
   "cell_type": "markdown",
   "metadata": {},
   "source": [
    "### DS1000E validated\n",
    "\n",
    "Handy Abbreviations: `D`, `1000D`, `DS1000D`\n",
    "\n",
    "Specific Models: `DS1102D`, `DS1052D`\n",
    "\n",
    "Handy Abbreviations: `E`, `1000E`, `DS1000E`\n",
    "\n",
    "Specific Models: `DS1000E`, `DS1102E`, `DS1052E`"
   ]
  },
  {
   "cell_type": "markdown",
   "metadata": {},
   "source": [
    "### DS1000Z tested,  incorrect voltages\n",
    "\n",
    "Handy Abbreviations: `Z`, `1000Z`, `DS1000Z`,\n",
    "\n",
    "Specific Models: `DS1202Z`, `DS1074Z`, `DS1104Z`, `DS1074Z-S`,\n",
    "                  `DS1104Z-S`, `MSO1054Z`, `DS1054Z`,\n",
    "                  `MSO1074Z`, `MSO1104Z`, `DS1104Z`"
   ]
  },
  {
   "cell_type": "markdown",
   "metadata": {},
   "source": [
    "### DS2000 tested\n",
    "\n",
    "Handy Abbreviations: `2`, `2000`, `DS2000`,\n",
    "\n",
    "Specific Models: `DS2102A`, `MSO2102A`, `MSO2102A-S`,\n",
    "                 `DS2202A`, `MSO2202A`, `MSO2202A-S`,\n",
    "                 `DS2302A`, `MSO2302A`, `MSO2302A-S`\n",
    "                 "
   ]
  },
  {
   "cell_type": "markdown",
   "metadata": {},
   "source": [
    "### DS4000 validated\n",
    "\n",
    "Handy Abbreviations: `4`, `4000`, `DS4000`,\n",
    "\n",
    "Specific Models: `DS4054`, `DS4052`, `DS4034`, `DS4032`, `DS4024`,\n",
    "                 `DS4022`, `DS4014`, `DS4012`, `MSO4054`, `MSO4052`, `MSO4034`,\n",
    "                 `MSO4032`, `MSO4024`, `MSO4022`, `MSO4014`, `MSO4012`]"
   ]
  },
  {
   "cell_type": "markdown",
   "metadata": {},
   "source": [
    "### DS6000 untested\n",
    "\n",
    "Support for these models is in the program, but parsing is completely untested.\n",
    "\n",
    "Handy Abbreviations: `6`, `6000`, `DS6000`\n",
    "\n",
    "Specific Models: `DS6062`, `DS6064`, `DS6102`, `DS6104`"
   ]
  },
  {
   "cell_type": "markdown",
   "metadata": {},
   "source": [
    "## The `Wfm` class\n",
    "\n",
    "This is a class with two basic methods to create objects from files and urls:\n",
    "\n",
    "* Wfm.from_file(file_name, model)\n",
    "* Wfm.from_url(url, model)\n",
    "\n",
    "where `model` describes the scope.  \n",
    "\n",
    "It also has a methods to manipulate the data.\n",
    "\n",
    "* Wfm.describe()\n",
    "* Wfm.csv()\n",
    "* Wfm.plot()\n",
    "\n",
    "The first two return strings.  The third produces a basic `matplotlib.pyplot.plt` object."
   ]
  },
  {
   "cell_type": "markdown",
   "metadata": {},
   "source": [
    "## Example for a remote file\n",
    "\n",
    "First let's have look at the description of the internal file structure. We see that only channel 1 has been enabled."
   ]
  },
  {
   "cell_type": "code",
   "execution_count": 3,
   "metadata": {},
   "outputs": [
    {
     "name": "stdout",
     "output_type": "stream",
     "text": [
      "downloading 'https://github.com/scottprahl/RigolWFM/raw/master/wfm/DS1102E-D.wfm?raw=true'\n"
     ]
    }
   ],
   "source": [
    "# raw=true is needed because this is a binary file\n",
    "wfm_url = repo + \"DS1102E-D.wfm\" + \"?raw=true\"  \n",
    "w = rigol.Wfm.from_url(wfm_url, 'E')"
   ]
  },
  {
   "cell_type": "markdown",
   "metadata": {},
   "source": [
    "### Sample description"
   ]
  },
  {
   "cell_type": "code",
   "execution_count": 4,
   "metadata": {},
   "outputs": [
    {
     "name": "stdout",
     "output_type": "stream",
     "text": [
      "    General:\n",
      "        File Model   = wfm1000e\n",
      "        User Model   = E\n",
      "        Parser Model = wfm1000e\n",
      "        Firmware     = unknown\n",
      "        Filename     = DS1102E-D.wfm\n",
      "        Channels     = [1, 2]\n",
      "\n",
      "     Channel 1:\n",
      "         Coupling =  unknown\n",
      "            Scale =     2.00  V/div\n",
      "           Offset =     2.40  V\n",
      "            Probe =       1X\n",
      "         Inverted =    False\n",
      "\n",
      "        Time Base =  100.000 µs/div\n",
      "           Offset =    0.000  s\n",
      "            Delta =  400.000 ns/point\n",
      "           Points =     8188\n",
      "\n",
      "         Count    = [        1,        2,        3  ...      8187,     8188]\n",
      "           Raw    = [       41,       41,       41  ...       110,      110]\n",
      "           Times  = [-1.638 ms,-1.637 ms,-1.637 ms  ...  1.637 ms, 1.638 ms]\n",
      "           Volts  = [  4.48  V,  4.48  V,  4.48  V  ...  -1.04  V, -1.04  V]\n",
      "\n",
      "     Channel 2:\n",
      "         Coupling =  unknown\n",
      "            Scale =     5.00  V/div\n",
      "           Offset =   -15.80  V\n",
      "            Probe =       1X\n",
      "         Inverted =    False\n",
      "\n",
      "        Time Base =  100.000 µs/div\n",
      "           Offset =    0.000  s\n",
      "            Delta =  400.000 ns/point\n",
      "           Points =     8188\n",
      "\n",
      "         Count    = [        1,        2,        3  ...      8187,     8188]\n",
      "           Raw    = [      204,      204,      204  ...       178,      178]\n",
      "           Times  = [-1.638 ms,-1.637 ms,-1.637 ms  ...  1.637 ms, 1.638 ms]\n",
      "           Volts  = [400.00 mV,400.00 mV,400.00 mV  ...   5.60  V,  5.60  V]\n",
      "\n",
      "\n"
     ]
    }
   ],
   "source": [
    "description = w.describe()\n",
    "print(description)"
   ]
  },
  {
   "cell_type": "markdown",
   "metadata": {},
   "source": [
    "### Sample Plot"
   ]
  },
  {
   "cell_type": "code",
   "execution_count": 5,
   "metadata": {},
   "outputs": [
    {
     "data": {
      "image/png": "[encoded data removed]",
      "text/plain": [
       "<Figure size 432x288 with 1 Axes>"
      ]
     },
     "metadata": {
      "needs_background": "light"
     },
     "output_type": "display_data"
    }
   ],
   "source": [
    "w.plot()\n",
    "plt.show()"
   ]
  },
  {
   "cell_type": "markdown",
   "metadata": {},
   "source": [
    "### Sample `.csv` file"
   ]
  },
  {
   "cell_type": "code",
   "execution_count": 6,
   "metadata": {},
   "outputs": [
    {
     "name": "stdout",
     "output_type": "stream",
     "text": [
      "X,CH 1,CH 2,Start,Increment\n",
      "µs, V, V,-6.000000e-04,1.000000e-06\n",
      "-1637.600000,4.48,0.40\n",
      "-1637.199951,4.48,0.40\n",
      "-1636.799902,4.48,0.40\n"
     ]
    }
   ],
   "source": [
    "s = w.csv()\n",
    "\n",
    "# just show the first few entries\n",
    "rows = s.split('\\n')\n",
    "for i in range(5):\n",
    "    print(rows[i])\n"
   ]
  },
  {
   "cell_type": "markdown",
   "metadata": {},
   "source": [
    "## Example for a local file\n",
    "\n",
    "You will need to adjust the path and filename for your computer"
   ]
  },
  {
   "cell_type": "code",
   "execution_count": 7,
   "metadata": {},
   "outputs": [
    {
     "name": "stdout",
     "output_type": "stream",
     "text": [
      "    General:\n",
      "        File Model   = wfm1000e\n",
      "        User Model   = E\n",
      "        Parser Model = wfm1000e\n",
      "        Firmware     = unknown\n",
      "        Filename     = DS1102E-D.wfm\n",
      "        Channels     = [1, 2]\n",
      "\n",
      "     Channel 1:\n",
      "         Coupling =  unknown\n",
      "            Scale =     2.00  V/div\n",
      "           Offset =     2.40  V\n",
      "            Probe =       1X\n",
      "         Inverted =    False\n",
      "\n",
      "        Time Base =  100.000 µs/div\n",
      "           Offset =    0.000  s\n",
      "            Delta =  400.000 ns/point\n",
      "           Points =     8188\n",
      "\n",
      "         Count    = [        1,        2,        3  ...      8187,     8188]\n",
      "           Raw    = [       41,       41,       41  ...       110,      110]\n",
      "           Times  = [-1.638 ms,-1.637 ms,-1.637 ms  ...  1.637 ms, 1.638 ms]\n",
      "           Volts  = [  4.48  V,  4.48  V,  4.48  V  ...  -1.04  V, -1.04  V]\n",
      "\n",
      "     Channel 2:\n",
      "         Coupling =  unknown\n",
      "            Scale =     5.00  V/div\n",
      "           Offset =   -15.80  V\n",
      "            Probe =       1X\n",
      "         Inverted =    False\n",
      "\n",
      "        Time Base =  100.000 µs/div\n",
      "           Offset =    0.000  s\n",
      "            Delta =  400.000 ns/point\n",
      "           Points =     8188\n",
      "\n",
      "         Count    = [        1,        2,        3  ...      8187,     8188]\n",
      "           Raw    = [      204,      204,      204  ...       178,      178]\n",
      "           Times  = [-1.638 ms,-1.637 ms,-1.637 ms  ...  1.637 ms, 1.638 ms]\n",
      "           Volts  = [400.00 mV,400.00 mV,400.00 mV  ...   5.60  V,  5.60  V]\n",
      "\n",
      "\n"
     ]
    }
   ],
   "source": [
    "path = \"../wfm/\"\n",
    "filename =  \"DS1102E-D.wfm\"\n",
    "wfm_name = path + filename\n",
    "w = rigol.Wfm.from_file(wfm_name, 'E')\n",
    "\n",
    "description = w.describe()\n",
    "print(description)"
   ]
  },
  {
   "cell_type": "code",
   "execution_count": null,
   "metadata": {},
   "outputs": [],
   "source": []
  }
 ],
 "metadata": {
  "kernel/runtime_info": {
   "name": "python3"
  },
  "kernel/runtimespec": {
   "display_name": "Python 3",
   "language": "python",
   "name": "python3"
  },
  "kernelspec": {
   "display_name": "Python 3 (ipykernel)",
   "language": "python",
   "name": "python3"
  },
  "language_info": {
   "codemirror_mode": {
    "name": "ipython",
    "version": 3
   },
   "file_extension": ".py",
   "mimetype": "text/x-python",
   "name": "python",
   "nbconvert_exporter": "python",
   "pygments_lexer": "ipython3",
   "version": "3.11.5"
  },
  "nteract": {
   "version": "0.15.0"
  }
 },
 "nbformat": 4,
 "nbformat_minor": 4
}
